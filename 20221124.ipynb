{
 "cells": [
  {
   "cell_type": "code",
   "execution_count": 2,
   "metadata": {},
   "outputs": [],
   "source": [
    "import math\n",
    "import numpy as np\n",
    "import gym\n",
    "from gym import spaces"
   ]
  },
  {
   "cell_type": "code",
   "execution_count": 25,
   "metadata": {},
   "outputs": [],
   "source": [
    "class SingleLinkManipulatorEnv(gym.Env):\n",
    "    metadata = {\n",
    "        \"render_modes\": [\"human\"],\n",
    "    }\n",
    "\n",
    "    def __init__(self):\n",
    "        self.min_action = -10.0\n",
    "        self.max_action = 10.0\n",
    "        self.min_x1 = 0.0\n",
    "        self.max_x1 = 3.0\n",
    "        self.min_x2 = 0.0\n",
    "        self.max_x2 = 1.5\n",
    "        self.goal_x1 = (math.pi/6.0)\n",
    "        self.goal_x2 = 0.0\n",
    "\n",
    "        self.low_state = np.array([self.min_x1, self.min_x2], dtype=np.float32)\n",
    "        self.high_state = np.array(\n",
    "            [self.max_x1, self.max_x2], dtype=np.float32)\n",
    "\n",
    "        self.action_space = spaces.Box(\n",
    "            low=self.min_action, high=self.max_action, shape=(1,), dtype=np.float32\n",
    "        )\n",
    "        self.observation_space = spaces.Box(\n",
    "            low=self.low_state, high=self.high_state, dtype=np.float32\n",
    "        )\n",
    "\n",
    "    def step(self, action: np.ndarray):\n",
    "        J = 1.625103\n",
    "        m = 0.506\n",
    "        M0 = 0.434\n",
    "        L0 = 0.305\n",
    "        R0 = 0.023\n",
    "        B0 = 16.25163\n",
    "        L = 0.0250103\n",
    "        R = 5.0\n",
    "        Kt = 0.90\n",
    "        Kb = 0.90\n",
    "        g = 9.8\n",
    "        M = J + m*L0*L0/3.0 + M0*L0*L0 + 2*M0*R0*R0/5/Kt\n",
    "        N = m*L0*g/2.0 + M0*L0*g/Kt\n",
    "        B = B0/Kt\n",
    "\n",
    "        x1 = self.state[0]\n",
    "        x2 = self.state[1]\n",
    "        a = min(max(action[0], self.min_action), self.max_action)\n",
    "\n",
    "        x3 = (a-Kb*x2)/R\n",
    "        x1dot = x2\n",
    "        x2dot = -(N/M)*math.sin(x1) - (B/M)*x2 + (x3/M)\n",
    "        x1p = x1 + 0.1*x1dot\n",
    "        x2p = x2 + 0.1*x2dot\n",
    "\n",
    "        if x1p > self.max_x1:\n",
    "            x1p = self.max_x1\n",
    "        if x1p < self.min_x1:\n",
    "            x1p = self.min_x1\n",
    "        if x2p > self.max_x2:\n",
    "            x2p = self.max_x2\n",
    "        if x2p < self.min_x2:\n",
    "            x2p = self.min_x2\n",
    "\n",
    "        terminated = False\n",
    "        reward = -abs(x1p - self.goal_x1) - abs(x2p-self.goal_x2)\n",
    "        \n",
    "        self.state = np.array([x1p, x2p], dtype=np.float32)\n",
    "\n",
    "        return self.state, reward, terminated, {}\n",
    "\n",
    "    def reset(self):\n",
    "        self.state = self.observation_space.sample()\n",
    "        return np.array(self.state, dtype=np.float32)\n"
   ]
  },
  {
   "cell_type": "code",
   "execution_count": 26,
   "metadata": {},
   "outputs": [],
   "source": [
    "from stable_baselines3 import DDPG\n",
    "from stable_baselines3.common.evaluation import evaluate_policy\n",
    "from stable_baselines3.common.noise import NormalActionNoise, OrnsteinUhlenbeckActionNoise\n",
    "import matplotlib.pyplot as plt\n"
   ]
  },
  {
   "cell_type": "code",
   "execution_count": 27,
   "metadata": {},
   "outputs": [
    {
     "name": "stdout",
     "output_type": "stream",
     "text": [
      "Using cuda device\n",
      "Wrapping the env with a `Monitor` wrapper\n",
      "Wrapping the env in a DummyVecEnv.\n"
     ]
    }
   ],
   "source": [
    "env = SingleLinkManipulatorEnv()\n",
    "n_actions = env.action_space.shape[-1]\n",
    "action_noise = NormalActionNoise(mean=np.zeros(\n",
    "    n_actions), sigma=0.1 * np.ones(n_actions))\n",
    "# check_env(env)\n",
    "model = DDPG('MlpPolicy', env, action_noise=action_noise, verbose=1)\n",
    "model.learn(100)\n",
    "metrics = evaluate_policy(model, model.get_env(\n",
    "), n_eval_episodes=100, return_episode_rewards=True)\n",
    "plt.plot(metrics[0])\n"
   ]
  }
 ],
 "metadata": {
  "kernelspec": {
   "display_name": "Python 3.10.7 ('Major_Project': venv)",
   "language": "python",
   "name": "python3"
  },
  "language_info": {
   "codemirror_mode": {
    "name": "ipython",
    "version": 3
   },
   "file_extension": ".py",
   "mimetype": "text/x-python",
   "name": "python",
   "nbconvert_exporter": "python",
   "pygments_lexer": "ipython3",
   "version": "3.10.7"
  },
  "orig_nbformat": 4,
  "vscode": {
   "interpreter": {
    "hash": "4cae0adad15b594f570c347e0eb25020a0905d08a69cf36ad4c532be85250f09"
   }
  }
 },
 "nbformat": 4,
 "nbformat_minor": 2
}
